{
  "cells": [
    {
      "cell_type": "markdown",
      "metadata": {},
      "source": [
        "# 🚢 **TITANIC SURVIVAL PREDICTION - NEURAL NETWORK PROJECT**\n",
        "\n",
        "**Francisco Teixeira Barbosa** | GitHub: [Tuminha](https://github.com/Tuminha) | Email: cisco@periospot.com\n",
        "\n",
        "---\n",
        "\n",
        "## 📋 **PROJECT OVERVIEW**\n",
        "\n",
        "Following the success of my **Hotel Cancellation Predictor** (82.65% accuracy), I'm now tackling the classic Titanic survival prediction challenge using neural networks. This smaller dataset (891 passengers vs 119K hotel bookings) will help me reinforce deep learning concepts with faster iteration and clearer results.\n",
        "\n",
        "### **🎯 Learning Objectives:**\n",
        "- Master binary classification with PyTorch neural networks\n",
        "- Practice feature engineering on historical data\n",
        "- Implement proper train/test evaluation methodology\n",
        "- Build production-ready ML pipeline\n",
        "\n",
        "### **📊 Dataset Context:**\n",
        "- **Source**: Kaggle Titanic Competition\n",
        "- **Size**: 891 training samples\n",
        "- **Target**: Predict passenger survival (1 = survived, 0 = died)\n",
        "- **Expected Performance**: 80%+ accuracy\n",
        "\n",
        "---\n"
      ]
    },
    {
      "cell_type": "markdown",
      "metadata": {},
      "source": [
        "## 📚 **PHASE 1: DATA EXPLORATION**\n",
        "\n",
        "### **🎯 Phase Objectives:**\n",
        "Understand the Titanic dataset structure, identify missing values, and discover survival patterns that will guide our feature engineering and model design.\n",
        "\n",
        "---\n"
      ]
    },
    {
      "cell_type": "markdown",
      "metadata": {},
      "source": [
        "### **Task 1: Download and Load Titanic Dataset**\n",
        "\n",
        "**Objective**: Obtain the Kaggle Titanic dataset and load it into our analysis environment.\n",
        "\n",
        "**TODO**: Download the Titanic dataset from Kaggle and load it using pandas\n",
        "- Research: What are the different ways to download Kaggle datasets?\n",
        "- Hint: You can use the Kaggle API or download manually from the website\n",
        "- Consider: Where should you save the dataset files?\n",
        "\n",
        "**Business Context**: The Titanic dataset is a classic in ML education, representing a real historical event with clear survival outcomes. Understanding this context helps us interpret our model's predictions meaningfully.\n"
      ]
    },
    {
      "cell_type": "code",
      "execution_count": null,
      "metadata": {},
      "outputs": [],
      "source": [
        "# Import necessary libraries\n",
        "# TODO: Import pandas, numpy, and matplotlib/seaborn for data analysis\n",
        "# Research: What other libraries might be useful for data exploration?\n",
        "\n",
        "# Load the Titanic dataset\n",
        "# TODO: Read the train.csv file from your data directory\n",
        "# Hint: Use pd.read_csv() and check the file path\n",
        "# Research: What parameters can you use with read_csv()?\n",
        "\n",
        "# Display basic information about the dataset\n",
        "# TODO: Show the first few rows and basic dataset info\n",
        "# Hint: Use .head() and .info() methods\n",
        "# Research: What other methods help you understand dataset structure?\n"
      ]
    },
    {
      "cell_type": "markdown",
      "metadata": {},
      "source": [
        "### **Task 2: Exploratory Data Analysis**\n",
        "\n",
        "**Objective**: Understand the dataset structure, data types, and identify missing values.\n",
        "\n",
        "**TODO**: Perform comprehensive EDA to understand the data\n",
        "- Research: What information does .describe() provide for numerical vs categorical columns?\n",
        "- Hint: Check data types, missing values, and basic statistics\n",
        "- Consider: Which columns might be most important for survival prediction?\n",
        "\n",
        "**Business Context**: Each passenger had different characteristics that influenced their survival chances. Understanding these patterns helps us build a better predictive model.\n"
      ]
    },
    {
      "cell_type": "code",
      "execution_count": null,
      "metadata": {},
      "outputs": [],
      "source": [
        "# Dataset shape and basic information\n",
        "# TODO: Check the shape of the dataset\n",
        "# Research: What does the shape tell us about our data?\n",
        "\n",
        "# Data types and missing values\n",
        "# TODO: Use .info() to see data types and missing value counts\n",
        "# TODO: Use .isnull().sum() to get detailed missing value information\n",
        "# Research: Which columns have the most missing data?\n",
        "\n",
        "# Basic statistics\n",
        "# TODO: Use .describe() to see numerical column statistics\n",
        "# Research: What insights can you draw from the statistical summary?\n",
        "\n",
        "# Target variable analysis\n",
        "# TODO: Check the distribution of the Survived column\n",
        "# Research: What does this tell us about the class balance?\n"
      ]
    },
    {
      "cell_type": "markdown",
      "metadata": {},
      "source": [
        "### **Task 3: Visualize Survival Patterns**\n",
        "\n",
        "**Objective**: Create visualizations to understand which factors correlate with survival.\n",
        "\n",
        "**TODO**: Create visualizations showing survival patterns by key features\n",
        "- Research: What types of plots work best for categorical vs numerical features?\n",
        "- Hint: Use seaborn for statistical visualizations\n",
        "- Consider: How can you show survival rates by different passenger characteristics?\n",
        "\n",
        "**Business Context**: Historical accounts mention \"women and children first\" - our visualizations should reveal if this pattern appears in the data.\n"
      ]
    },
    {
      "cell_type": "code",
      "execution_count": null,
      "metadata": {},
      "outputs": [],
      "source": [
        "# Import visualization libraries\n",
        "# TODO: Import matplotlib and seaborn for plotting\n",
        "# Research: What other visualization libraries might be useful?\n",
        "\n",
        "# Set up plotting style\n",
        "# TODO: Configure matplotlib for better-looking plots\n",
        "# Hint: Use plt.style.use() or seaborn.set_style()\n",
        "\n",
        "# Survival rate by gender\n",
        "# TODO: Create a visualization showing survival rates by Sex\n",
        "# Research: What's the best plot type for comparing categorical groups?\n",
        "# Hint: Consider using seaborn.countplot() or bar plots\n",
        "\n",
        "# Survival rate by passenger class\n",
        "# TODO: Visualize survival patterns by Pclass\n",
        "# Research: How can you show both counts and percentages?\n",
        "\n",
        "# Survival rate by age groups\n",
        "# TODO: Create age groups and visualize survival patterns\n",
        "# Research: How can you bin continuous data for analysis?\n",
        "# Hint: Use pd.cut() or create custom age ranges\n",
        "\n",
        "# Family size impact\n",
        "# TODO: Create a family size feature and analyze its impact\n",
        "# Research: How can you combine SibSp and Parch to create meaningful groups?\n"
      ]
    },
    {
      "cell_type": "markdown",
      "metadata": {},
      "source": [
        "### **Task 4: Correlation Analysis and Feature Insights**\n",
        "\n",
        "**Objective**: Analyze correlations between features and identify the most important predictors.\n",
        "\n",
        "**TODO**: Perform correlation analysis and derive business insights\n",
        "- Research: What's the difference between Pearson and Spearman correlation?\n",
        "- Hint: Use correlation matrices and heatmaps\n",
        "- Consider: Which features show the strongest relationship with survival?\n",
        "\n",
        "**Business Context**: Understanding feature importance helps us focus our feature engineering efforts and build more interpretable models.\n"
      ]
    },
    {
      "cell_type": "code",
      "execution_count": null,
      "metadata": {},
      "outputs": [],
      "source": [
        "# Correlation matrix\n",
        "# TODO: Create a correlation matrix for numerical features\n",
        "# Research: Which features should you include in the correlation analysis?\n",
        "# Hint: Convert categorical variables to numerical first if needed\n",
        "\n",
        "# Visualize correlations\n",
        "# TODO: Create a heatmap of the correlation matrix\n",
        "# Research: What parameters can you use to make heatmaps more readable?\n",
        "# Hint: Use seaborn.heatmap() with appropriate parameters\n",
        "\n",
        "# Feature importance analysis\n",
        "# TODO: Calculate survival rates by different feature combinations\n",
        "# Research: How can you quantify the predictive power of each feature?\n",
        "# Hint: Consider using groupby() with multiple features\n",
        "\n",
        "# Summary insights\n",
        "# TODO: Document your key findings from Phase 1\n",
        "# Research: What are the most important insights for feature engineering?\n",
        "# Consider: Which features should we focus on in preprocessing?\n"
      ]
    },
    {
      "cell_type": "markdown",
      "metadata": {},
      "source": [
        "## 📋 **PHASE 1 SUMMARY**\n",
        "\n",
        "### **Key Findings:**\n",
        "- [ ] **Dataset Structure**: Document shape, data types, and missing values\n",
        "- [ ] **Survival Patterns**: Identify key factors that correlate with survival\n",
        "- [ ] **Missing Data Strategy**: Plan how to handle missing values in Age, Cabin, Embarked\n",
        "- [ ] **Feature Engineering Opportunities**: Identify new features to create\n",
        "\n",
        "### **Next Steps for Phase 2:**\n",
        "- [ ] Handle missing values intelligently\n",
        "- [ ] Engineer new features (Title, Family Size, etc.)\n",
        "- [ ] Encode categorical variables\n",
        "- [ ] Scale features for neural network training\n",
        "\n",
        "---\n",
        "\n",
        "**🎯 Ready for Phase 2: Data Preprocessing!**\n"
      ]
    }
  ],
  "metadata": {
    "language_info": {
      "name": "python"
    }
  },
  "nbformat": 4,
  "nbformat_minor": 2
}
